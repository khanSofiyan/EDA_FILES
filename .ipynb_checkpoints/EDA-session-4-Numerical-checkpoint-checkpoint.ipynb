{
 "cells": [
  {
   "cell_type": "code",
   "execution_count": 1,
   "id": "4b2b7a52-59eb-4c0f-aa6c-906aba12bdaa",
   "metadata": {},
   "outputs": [
    {
     "name": "stdout",
     "output_type": "stream",
     "text": [
      "200\n"
     ]
    }
   ],
   "source": [
    "a=100\n",
    "b=100\n",
    "c=a+b\n",
    "print(c)"
   ]
  },
  {
   "cell_type": "markdown",
   "id": "251fcc95-2e55-44a7-aa4b-6b893c1bdb5d",
   "metadata": {},
   "source": [
    "**import pacakage**"
   ]
  },
  {
   "cell_type": "code",
   "execution_count": 6,
   "id": "57fccc70-0d9f-4071-aeb0-19abd441e6eb",
   "metadata": {},
   "outputs": [],
   "source": [
    "import pandas as pd\n",
    "import numpy as np\n",
    "import matplotlib.pyplot as plt\n",
    "import seaborn as sns"
   ]
  },
  {
   "cell_type": "markdown",
   "id": "40efa73c-270b-4465-87d3-a158ea7ef104",
   "metadata": {},
   "source": [
    "**read the data**"
   ]
  },
  {
   "cell_type": "code",
   "execution_count": 39,
   "id": "12fcb895-e265-4a11-9c47-36d64087a20b",
   "metadata": {},
   "outputs": [
    {
     "data": {
      "text/html": [
       "<div>\n",
       "<style scoped>\n",
       "    .dataframe tbody tr th:only-of-type {\n",
       "        vertical-align: middle;\n",
       "    }\n",
       "\n",
       "    .dataframe tbody tr th {\n",
       "        vertical-align: top;\n",
       "    }\n",
       "\n",
       "    .dataframe thead th {\n",
       "        text-align: right;\n",
       "    }\n",
       "</style>\n",
       "<table border=\"1\" class=\"dataframe\">\n",
       "  <thead>\n",
       "    <tr style=\"text-align: right;\">\n",
       "      <th></th>\n",
       "      <th>case_id</th>\n",
       "      <th>continent</th>\n",
       "      <th>education_of_employee</th>\n",
       "      <th>has_job_experience</th>\n",
       "      <th>requires_job_training</th>\n",
       "      <th>no_of_employees</th>\n",
       "      <th>yr_of_estab</th>\n",
       "      <th>region_of_employment</th>\n",
       "      <th>prevailing_wage</th>\n",
       "      <th>unit_of_wage</th>\n",
       "      <th>full_time_position</th>\n",
       "      <th>case_status</th>\n",
       "    </tr>\n",
       "  </thead>\n",
       "  <tbody>\n",
       "    <tr>\n",
       "      <th>0</th>\n",
       "      <td>EZYV01</td>\n",
       "      <td>Asia</td>\n",
       "      <td>High School</td>\n",
       "      <td>N</td>\n",
       "      <td>N</td>\n",
       "      <td>14513</td>\n",
       "      <td>2007</td>\n",
       "      <td>West</td>\n",
       "      <td>592.2029</td>\n",
       "      <td>Hour</td>\n",
       "      <td>Y</td>\n",
       "      <td>Denied</td>\n",
       "    </tr>\n",
       "    <tr>\n",
       "      <th>1</th>\n",
       "      <td>EZYV02</td>\n",
       "      <td>Asia</td>\n",
       "      <td>Master's</td>\n",
       "      <td>Y</td>\n",
       "      <td>N</td>\n",
       "      <td>2412</td>\n",
       "      <td>2002</td>\n",
       "      <td>Northeast</td>\n",
       "      <td>83425.6500</td>\n",
       "      <td>Year</td>\n",
       "      <td>Y</td>\n",
       "      <td>Certified</td>\n",
       "    </tr>\n",
       "    <tr>\n",
       "      <th>2</th>\n",
       "      <td>EZYV03</td>\n",
       "      <td>Asia</td>\n",
       "      <td>Bachelor's</td>\n",
       "      <td>N</td>\n",
       "      <td>Y</td>\n",
       "      <td>44444</td>\n",
       "      <td>2008</td>\n",
       "      <td>West</td>\n",
       "      <td>122996.8600</td>\n",
       "      <td>Year</td>\n",
       "      <td>Y</td>\n",
       "      <td>Denied</td>\n",
       "    </tr>\n",
       "    <tr>\n",
       "      <th>3</th>\n",
       "      <td>EZYV04</td>\n",
       "      <td>Asia</td>\n",
       "      <td>Bachelor's</td>\n",
       "      <td>N</td>\n",
       "      <td>N</td>\n",
       "      <td>98</td>\n",
       "      <td>1897</td>\n",
       "      <td>West</td>\n",
       "      <td>83434.0300</td>\n",
       "      <td>Year</td>\n",
       "      <td>Y</td>\n",
       "      <td>Denied</td>\n",
       "    </tr>\n",
       "    <tr>\n",
       "      <th>4</th>\n",
       "      <td>EZYV05</td>\n",
       "      <td>Africa</td>\n",
       "      <td>Master's</td>\n",
       "      <td>Y</td>\n",
       "      <td>N</td>\n",
       "      <td>1082</td>\n",
       "      <td>2005</td>\n",
       "      <td>South</td>\n",
       "      <td>149907.3900</td>\n",
       "      <td>Year</td>\n",
       "      <td>Y</td>\n",
       "      <td>Certified</td>\n",
       "    </tr>\n",
       "    <tr>\n",
       "      <th>...</th>\n",
       "      <td>...</td>\n",
       "      <td>...</td>\n",
       "      <td>...</td>\n",
       "      <td>...</td>\n",
       "      <td>...</td>\n",
       "      <td>...</td>\n",
       "      <td>...</td>\n",
       "      <td>...</td>\n",
       "      <td>...</td>\n",
       "      <td>...</td>\n",
       "      <td>...</td>\n",
       "      <td>...</td>\n",
       "    </tr>\n",
       "    <tr>\n",
       "      <th>25475</th>\n",
       "      <td>EZYV25476</td>\n",
       "      <td>Asia</td>\n",
       "      <td>Bachelor's</td>\n",
       "      <td>Y</td>\n",
       "      <td>Y</td>\n",
       "      <td>2601</td>\n",
       "      <td>2008</td>\n",
       "      <td>South</td>\n",
       "      <td>77092.5700</td>\n",
       "      <td>Year</td>\n",
       "      <td>Y</td>\n",
       "      <td>Certified</td>\n",
       "    </tr>\n",
       "    <tr>\n",
       "      <th>25476</th>\n",
       "      <td>EZYV25477</td>\n",
       "      <td>Asia</td>\n",
       "      <td>High School</td>\n",
       "      <td>Y</td>\n",
       "      <td>N</td>\n",
       "      <td>3274</td>\n",
       "      <td>2006</td>\n",
       "      <td>Northeast</td>\n",
       "      <td>279174.7900</td>\n",
       "      <td>Year</td>\n",
       "      <td>Y</td>\n",
       "      <td>Certified</td>\n",
       "    </tr>\n",
       "    <tr>\n",
       "      <th>25477</th>\n",
       "      <td>EZYV25478</td>\n",
       "      <td>Asia</td>\n",
       "      <td>Master's</td>\n",
       "      <td>Y</td>\n",
       "      <td>N</td>\n",
       "      <td>1121</td>\n",
       "      <td>1910</td>\n",
       "      <td>South</td>\n",
       "      <td>146298.8500</td>\n",
       "      <td>Year</td>\n",
       "      <td>N</td>\n",
       "      <td>Certified</td>\n",
       "    </tr>\n",
       "    <tr>\n",
       "      <th>25478</th>\n",
       "      <td>EZYV25479</td>\n",
       "      <td>Asia</td>\n",
       "      <td>Master's</td>\n",
       "      <td>Y</td>\n",
       "      <td>Y</td>\n",
       "      <td>1918</td>\n",
       "      <td>1887</td>\n",
       "      <td>West</td>\n",
       "      <td>86154.7700</td>\n",
       "      <td>Year</td>\n",
       "      <td>Y</td>\n",
       "      <td>Certified</td>\n",
       "    </tr>\n",
       "    <tr>\n",
       "      <th>25479</th>\n",
       "      <td>EZYV25480</td>\n",
       "      <td>Asia</td>\n",
       "      <td>Bachelor's</td>\n",
       "      <td>Y</td>\n",
       "      <td>N</td>\n",
       "      <td>3195</td>\n",
       "      <td>1960</td>\n",
       "      <td>Midwest</td>\n",
       "      <td>70876.9100</td>\n",
       "      <td>Year</td>\n",
       "      <td>Y</td>\n",
       "      <td>Certified</td>\n",
       "    </tr>\n",
       "  </tbody>\n",
       "</table>\n",
       "<p>25480 rows × 12 columns</p>\n",
       "</div>"
      ],
      "text/plain": [
       "         case_id continent education_of_employee has_job_experience  \\\n",
       "0         EZYV01      Asia           High School                  N   \n",
       "1         EZYV02      Asia              Master's                  Y   \n",
       "2         EZYV03      Asia            Bachelor's                  N   \n",
       "3         EZYV04      Asia            Bachelor's                  N   \n",
       "4         EZYV05    Africa              Master's                  Y   \n",
       "...          ...       ...                   ...                ...   \n",
       "25475  EZYV25476      Asia            Bachelor's                  Y   \n",
       "25476  EZYV25477      Asia           High School                  Y   \n",
       "25477  EZYV25478      Asia              Master's                  Y   \n",
       "25478  EZYV25479      Asia              Master's                  Y   \n",
       "25479  EZYV25480      Asia            Bachelor's                  Y   \n",
       "\n",
       "      requires_job_training  no_of_employees  yr_of_estab  \\\n",
       "0                         N            14513         2007   \n",
       "1                         N             2412         2002   \n",
       "2                         Y            44444         2008   \n",
       "3                         N               98         1897   \n",
       "4                         N             1082         2005   \n",
       "...                     ...              ...          ...   \n",
       "25475                     Y             2601         2008   \n",
       "25476                     N             3274         2006   \n",
       "25477                     N             1121         1910   \n",
       "25478                     Y             1918         1887   \n",
       "25479                     N             3195         1960   \n",
       "\n",
       "      region_of_employment  prevailing_wage unit_of_wage full_time_position  \\\n",
       "0                     West         592.2029         Hour                  Y   \n",
       "1                Northeast       83425.6500         Year                  Y   \n",
       "2                     West      122996.8600         Year                  Y   \n",
       "3                     West       83434.0300         Year                  Y   \n",
       "4                    South      149907.3900         Year                  Y   \n",
       "...                    ...              ...          ...                ...   \n",
       "25475                South       77092.5700         Year                  Y   \n",
       "25476            Northeast      279174.7900         Year                  Y   \n",
       "25477                South      146298.8500         Year                  N   \n",
       "25478                 West       86154.7700         Year                  Y   \n",
       "25479              Midwest       70876.9100         Year                  Y   \n",
       "\n",
       "      case_status  \n",
       "0          Denied  \n",
       "1       Certified  \n",
       "2          Denied  \n",
       "3          Denied  \n",
       "4       Certified  \n",
       "...           ...  \n",
       "25475   Certified  \n",
       "25476   Certified  \n",
       "25477   Certified  \n",
       "25478   Certified  \n",
       "25479   Certified  \n",
       "\n",
       "[25480 rows x 12 columns]"
      ]
     },
     "execution_count": 39,
     "metadata": {},
     "output_type": "execute_result"
    }
   ],
   "source": [
    "visa=pd.read_csv(\"Visadataset.csv\")\n",
    "visa"
   ]
  },
  {
   "cell_type": "code",
   "execution_count": 8,
   "id": "e0c108fb-4471-4b89-9d91-b93e8d49b95e",
   "metadata": {},
   "outputs": [
    {
     "data": {
      "text/plain": [
       "Index(['no_of_employees', 'yr_of_estab', 'prevailing_wage'], dtype='object')"
      ]
     },
     "execution_count": 8,
     "metadata": {},
     "output_type": "execute_result"
    }
   ],
   "source": [
    "cat_columns=visa.select_dtypes(include=\"object\").columns\n",
    "num_columns=visa.select_dtypes(exclude=\"object\").columns\n",
    "num_columns"
   ]
  },
  {
   "cell_type": "markdown",
   "id": "0e90521b-cce3-403a-81c5-2b2b3c7fa473",
   "metadata": {},
   "source": [
    "**prevailing_wage**"
   ]
  },
  {
   "cell_type": "code",
   "execution_count": 5,
   "id": "ba3f890d-36da-4f4f-af09-a663dc32eb84",
   "metadata": {},
   "outputs": [
    {
     "ename": "SyntaxError",
     "evalue": "invalid syntax (2242364438.py, line 3)",
     "output_type": "error",
     "traceback": [
      "\u001b[1;36m  Cell \u001b[1;32mIn[5], line 3\u001b[1;36m\u001b[0m\n\u001b[1;33m    visa.['prevailing_wage']\u001b[0m\n\u001b[1;37m         ^\u001b[0m\n\u001b[1;31mSyntaxError\u001b[0m\u001b[1;31m:\u001b[0m invalid syntax\n"
     ]
    }
   ],
   "source": [
    "visa.loc[:,'prevailing_wage']\n",
    "visa.iloc[:,[8]]\n",
    "visa.['prevailing_wage']\n",
    "visa.[['prevailing_wage']]"
   ]
  },
  {
   "cell_type": "markdown",
   "id": "a2c58d48-aa62-44ab-a79d-94b58241d2c6",
   "metadata": {},
   "source": [
    "- len\n",
    "\n",
    "- min\n",
    "\n",
    "- max\n",
    "\n",
    "- average (mean)\n",
    "\n",
    "- stanrdard deviation std\n",
    "\n",
    "- median\n",
    "\n",
    "- 25p\n",
    "\n",
    "- 50p\n",
    "\n",
    "- 75p"
   ]
  },
  {
   "cell_type": "markdown",
   "id": "23aa791f-0369-4d9d-8566-38092e7ef087",
   "metadata": {},
   "source": [
    "**length**"
   ]
  },
  {
   "cell_type": "code",
   "execution_count": 9,
   "id": "a22c1392-d950-46e0-b390-b27c9d5c3409",
   "metadata": {},
   "outputs": [
    {
     "data": {
      "text/plain": [
       "25480"
      ]
     },
     "execution_count": 9,
     "metadata": {},
     "output_type": "execute_result"
    }
   ],
   "source": [
    "len(visa[\"prevailing_wage\"])"
   ]
  },
  {
   "cell_type": "code",
   "execution_count": 6,
   "id": "1fce2df7-bf44-48be-9d16-38ca547cfa1c",
   "metadata": {},
   "outputs": [
    {
     "data": {
      "text/html": [
       "<div>\n",
       "<style scoped>\n",
       "    .dataframe tbody tr th:only-of-type {\n",
       "        vertical-align: middle;\n",
       "    }\n",
       "\n",
       "    .dataframe tbody tr th {\n",
       "        vertical-align: top;\n",
       "    }\n",
       "\n",
       "    .dataframe thead th {\n",
       "        text-align: right;\n",
       "    }\n",
       "</style>\n",
       "<table border=\"1\" class=\"dataframe\">\n",
       "  <thead>\n",
       "    <tr style=\"text-align: right;\">\n",
       "      <th></th>\n",
       "      <th>education_of_employee</th>\n",
       "      <th>has_job_experience</th>\n",
       "      <th>requires_job_training</th>\n",
       "    </tr>\n",
       "  </thead>\n",
       "  <tbody>\n",
       "    <tr>\n",
       "      <th>3</th>\n",
       "      <td>Bachelor's</td>\n",
       "      <td>N</td>\n",
       "      <td>N</td>\n",
       "    </tr>\n",
       "    <tr>\n",
       "      <th>4</th>\n",
       "      <td>Master's</td>\n",
       "      <td>Y</td>\n",
       "      <td>N</td>\n",
       "    </tr>\n",
       "    <tr>\n",
       "      <th>5</th>\n",
       "      <td>Master's</td>\n",
       "      <td>Y</td>\n",
       "      <td>N</td>\n",
       "    </tr>\n",
       "    <tr>\n",
       "      <th>6</th>\n",
       "      <td>Bachelor's</td>\n",
       "      <td>N</td>\n",
       "      <td>N</td>\n",
       "    </tr>\n",
       "  </tbody>\n",
       "</table>\n",
       "</div>"
      ],
      "text/plain": [
       "  education_of_employee has_job_experience requires_job_training\n",
       "3            Bachelor's                  N                     N\n",
       "4              Master's                  Y                     N\n",
       "5              Master's                  Y                     N\n",
       "6            Bachelor's                  N                     N"
      ]
     },
     "execution_count": 6,
     "metadata": {},
     "output_type": "execute_result"
    }
   ],
   "source": [
    "#visa.iloc[rows,columns]\n",
    "\n",
    "#start: stop:step\n",
    "# row : 3 4 5 6\n",
    "# col 2 3 4 \n",
    "visa.iloc[3:7,2:5]"
   ]
  },
  {
   "cell_type": "markdown",
   "id": "a729f69f-b8ca-4b2b-8d4f-a8bbd3ad1029",
   "metadata": {},
   "source": [
    "**Min**"
   ]
  },
  {
   "cell_type": "code",
   "execution_count": 10,
   "id": "f4f2ffa1-2602-46de-93c3-7512aa687c6d",
   "metadata": {},
   "outputs": [
    {
     "data": {
      "text/plain": [
       "2.1367"
      ]
     },
     "execution_count": 10,
     "metadata": {},
     "output_type": "execute_result"
    }
   ],
   "source": [
    "min(visa[\"prevailing_wage\"])"
   ]
  },
  {
   "cell_type": "markdown",
   "id": "6edabff7-1153-49f4-accd-ca812921b378",
   "metadata": {},
   "source": [
    "**Max**"
   ]
  },
  {
   "cell_type": "code",
   "execution_count": 11,
   "id": "63c84e7b-2aa2-44d1-b159-4588e04394ab",
   "metadata": {},
   "outputs": [
    {
     "data": {
      "text/plain": [
       "319210.27"
      ]
     },
     "execution_count": 11,
     "metadata": {},
     "output_type": "execute_result"
    }
   ],
   "source": [
    "max(visa[\"prevailing_wage\"])"
   ]
  },
  {
   "cell_type": "code",
   "execution_count": 12,
   "id": "e413798e-3d91-4480-a6b4-6345c8b7a18a",
   "metadata": {},
   "outputs": [
    {
     "name": "stdout",
     "output_type": "stream",
     "text": [
      "the member of wage samples are: 25480\n",
      "the minimum wage is: 2.1367\n",
      "the maximum wage is: 319210.27\n"
     ]
    }
   ],
   "source": [
    "count_wage=len(visa[\"prevailing_wage\"])\n",
    "min_wage=min(visa[\"prevailing_wage\"])\n",
    "max_wage=max(visa[\"prevailing_wage\"])\n",
    "print(\"the member of wage samples are:\",count_wage)\n",
    "print(\"the minimum wage is:\",min_wage)\n",
    "print(\"the maximum wage is:\",max_wage)"
   ]
  },
  {
   "cell_type": "markdown",
   "id": "78e4d833-de7f-4be1-ad6d-078a00b1e97c",
   "metadata": {},
   "source": [
    "**Mean**"
   ]
  },
  {
   "cell_type": "code",
   "execution_count": 13,
   "id": "140e9f23-b568-4bc7-abf0-95227ec98534",
   "metadata": {},
   "outputs": [
    {
     "data": {
      "text/plain": [
       "74455.81459209183"
      ]
     },
     "execution_count": 13,
     "metadata": {},
     "output_type": "execute_result"
    }
   ],
   "source": [
    "(visa[\"prevailing_wage\"]).mean()"
   ]
  },
  {
   "cell_type": "markdown",
   "id": "bfc5def1-7eb5-44e1-988c-8fa641e27d46",
   "metadata": {},
   "source": [
    "**Median**"
   ]
  },
  {
   "cell_type": "code",
   "execution_count": 14,
   "id": "ab5c392f-c333-429f-85be-0268ff30ca6c",
   "metadata": {},
   "outputs": [
    {
     "data": {
      "text/plain": [
       "70308.20999999999"
      ]
     },
     "execution_count": 14,
     "metadata": {},
     "output_type": "execute_result"
    }
   ],
   "source": [
    "(visa[\"prevailing_wage\"]).median()"
   ]
  },
  {
   "cell_type": "code",
   "execution_count": 15,
   "id": "c0fefacf-1da9-4f4d-9f6c-27484650e62f",
   "metadata": {},
   "outputs": [
    {
     "name": "stdout",
     "output_type": "stream",
     "text": [
      "The average wage is : 74455.81\n",
      "The median wage is : 70308.21\n"
     ]
    }
   ],
   "source": [
    "mean_wage=round(visa[\"prevailing_wage\"].mean(),2)\n",
    "median_wage=round(visa[\"prevailing_wage\"].median(),2)\n",
    "print(\"The average wage is :\",mean_wage)\n",
    "print(\"The median wage is :\",median_wage)"
   ]
  },
  {
   "cell_type": "markdown",
   "id": "9d6ef3c6-b6bb-4040-81ad-b2344647b906",
   "metadata": {},
   "source": [
    "- mode is not a suitable metric for numerical analysis\n",
    "\n",
    "- Different observation can have same values"
   ]
  },
  {
   "cell_type": "markdown",
   "id": "d4faaa0e-177d-4eb8-b10b-5d368a5e608a",
   "metadata": {},
   "source": [
    "**using numpy**"
   ]
  },
  {
   "cell_type": "code",
   "execution_count": 16,
   "id": "15b65057-adf2-4eae-8cc6-911adfaae744",
   "metadata": {},
   "outputs": [
    {
     "data": {
      "text/plain": [
       "74455.81459209183"
      ]
     },
     "execution_count": 16,
     "metadata": {},
     "output_type": "execute_result"
    }
   ],
   "source": [
    "np.mean(visa[\"prevailing_wage\"])"
   ]
  },
  {
   "cell_type": "code",
   "execution_count": 17,
   "id": "345a3948-c880-4d73-b132-9a1967246cb4",
   "metadata": {},
   "outputs": [
    {
     "data": {
      "text/plain": [
       "70308.20999999999"
      ]
     },
     "execution_count": 17,
     "metadata": {},
     "output_type": "execute_result"
    }
   ],
   "source": [
    "np.median(visa[\"prevailing_wage\"])"
   ]
  },
  {
   "cell_type": "markdown",
   "id": "90c40f98-fce5-40e8-937e-1eb9ee145a1b",
   "metadata": {},
   "source": [
    "**stanrdard deviation std**"
   ]
  },
  {
   "cell_type": "code",
   "execution_count": 18,
   "id": "f8bcd6b7-dfb7-4461-8752-f62530818236",
   "metadata": {},
   "outputs": [
    {
     "data": {
      "text/plain": [
       "52815.94"
      ]
     },
     "execution_count": 18,
     "metadata": {},
     "output_type": "execute_result"
    }
   ],
   "source": [
    "std_wage=round(visa[\"prevailing_wage\"].std(),2)\n",
    "std_wage"
   ]
  },
  {
   "cell_type": "code",
   "execution_count": null,
   "id": "2dacb694-a4b0-40e9-ad3d-0eaecd0d0c0f",
   "metadata": {},
   "outputs": [],
   "source": [
    "# step-1: create a empty list , keep all the values in a list\n",
    "# step-2: create a index list = ['count','min','max']\n",
    "# step-3: create a cols list = ['pwage']"
   ]
  },
  {
   "cell_type": "code",
   "execution_count": 19,
   "id": "33dc0fa0-203b-45d6-a29b-e347e0fedfea",
   "metadata": {},
   "outputs": [
    {
     "data": {
      "text/html": [
       "<div>\n",
       "<style scoped>\n",
       "    .dataframe tbody tr th:only-of-type {\n",
       "        vertical-align: middle;\n",
       "    }\n",
       "\n",
       "    .dataframe tbody tr th {\n",
       "        vertical-align: top;\n",
       "    }\n",
       "\n",
       "    .dataframe thead th {\n",
       "        text-align: right;\n",
       "    }\n",
       "</style>\n",
       "<table border=\"1\" class=\"dataframe\">\n",
       "  <thead>\n",
       "    <tr style=\"text-align: right;\">\n",
       "      <th></th>\n",
       "      <th>prevailing_wage</th>\n",
       "    </tr>\n",
       "  </thead>\n",
       "  <tbody>\n",
       "    <tr>\n",
       "      <th>count</th>\n",
       "      <td>25480.0000</td>\n",
       "    </tr>\n",
       "    <tr>\n",
       "      <th>min</th>\n",
       "      <td>2.1367</td>\n",
       "    </tr>\n",
       "    <tr>\n",
       "      <th>max</th>\n",
       "      <td>319210.2700</td>\n",
       "    </tr>\n",
       "    <tr>\n",
       "      <th>mean</th>\n",
       "      <td>74455.8100</td>\n",
       "    </tr>\n",
       "    <tr>\n",
       "      <th>medain</th>\n",
       "      <td>70308.2100</td>\n",
       "    </tr>\n",
       "    <tr>\n",
       "      <th>std</th>\n",
       "      <td>52815.9400</td>\n",
       "    </tr>\n",
       "  </tbody>\n",
       "</table>\n",
       "</div>"
      ],
      "text/plain": [
       "        prevailing_wage\n",
       "count        25480.0000\n",
       "min              2.1367\n",
       "max         319210.2700\n",
       "mean         74455.8100\n",
       "medain       70308.2100\n",
       "std          52815.9400"
      ]
     },
     "execution_count": 19,
     "metadata": {},
     "output_type": "execute_result"
    }
   ],
   "source": [
    "values=[count_wage,min_wage,max_wage,\n",
    "        mean_wage,median_wage,std_wage]\n",
    "index=['count','min','max','mean','medain','std']\n",
    "cols=['prevailing_wage']\n",
    "wage_df=pd.DataFrame(values,index=index,columns=cols)\n",
    "wage_df"
   ]
  },
  {
   "cell_type": "code",
   "execution_count": 17,
   "id": "29914e40-d842-49ed-8faf-d56f7250c82c",
   "metadata": {},
   "outputs": [
    {
     "data": {
      "text/html": [
       "<div>\n",
       "<style scoped>\n",
       "    .dataframe tbody tr th:only-of-type {\n",
       "        vertical-align: middle;\n",
       "    }\n",
       "\n",
       "    .dataframe tbody tr th {\n",
       "        vertical-align: top;\n",
       "    }\n",
       "\n",
       "    .dataframe thead th {\n",
       "        text-align: right;\n",
       "    }\n",
       "</style>\n",
       "<table border=\"1\" class=\"dataframe\">\n",
       "  <thead>\n",
       "    <tr style=\"text-align: right;\">\n",
       "      <th></th>\n",
       "      <th>no_of_employees</th>\n",
       "      <th>yr_of_estab</th>\n",
       "      <th>prevailing_wage</th>\n",
       "    </tr>\n",
       "  </thead>\n",
       "  <tbody>\n",
       "    <tr>\n",
       "      <th>count</th>\n",
       "      <td>25480.000000</td>\n",
       "      <td>25480.000000</td>\n",
       "      <td>25480.000000</td>\n",
       "    </tr>\n",
       "    <tr>\n",
       "      <th>mean</th>\n",
       "      <td>5667.043210</td>\n",
       "      <td>1979.409929</td>\n",
       "      <td>74455.814592</td>\n",
       "    </tr>\n",
       "    <tr>\n",
       "      <th>std</th>\n",
       "      <td>22877.928848</td>\n",
       "      <td>42.366929</td>\n",
       "      <td>52815.942327</td>\n",
       "    </tr>\n",
       "    <tr>\n",
       "      <th>min</th>\n",
       "      <td>-26.000000</td>\n",
       "      <td>1800.000000</td>\n",
       "      <td>2.136700</td>\n",
       "    </tr>\n",
       "    <tr>\n",
       "      <th>25%</th>\n",
       "      <td>1022.000000</td>\n",
       "      <td>1976.000000</td>\n",
       "      <td>34015.480000</td>\n",
       "    </tr>\n",
       "    <tr>\n",
       "      <th>50%</th>\n",
       "      <td>2109.000000</td>\n",
       "      <td>1997.000000</td>\n",
       "      <td>70308.210000</td>\n",
       "    </tr>\n",
       "    <tr>\n",
       "      <th>75%</th>\n",
       "      <td>3504.000000</td>\n",
       "      <td>2005.000000</td>\n",
       "      <td>107735.512500</td>\n",
       "    </tr>\n",
       "    <tr>\n",
       "      <th>max</th>\n",
       "      <td>602069.000000</td>\n",
       "      <td>2016.000000</td>\n",
       "      <td>319210.270000</td>\n",
       "    </tr>\n",
       "  </tbody>\n",
       "</table>\n",
       "</div>"
      ],
      "text/plain": [
       "       no_of_employees   yr_of_estab  prevailing_wage\n",
       "count     25480.000000  25480.000000     25480.000000\n",
       "mean       5667.043210   1979.409929     74455.814592\n",
       "std       22877.928848     42.366929     52815.942327\n",
       "min         -26.000000   1800.000000         2.136700\n",
       "25%        1022.000000   1976.000000     34015.480000\n",
       "50%        2109.000000   1997.000000     70308.210000\n",
       "75%        3504.000000   2005.000000    107735.512500\n",
       "max      602069.000000   2016.000000    319210.270000"
      ]
     },
     "execution_count": 17,
     "metadata": {},
     "output_type": "execute_result"
    }
   ],
   "source": [
    "visa.describe()"
   ]
  },
  {
   "cell_type": "markdown",
   "id": "77564ea3-d44c-45d1-88d3-7900bfeb3a4c",
   "metadata": {},
   "source": [
    "**25p-50p-75p**"
   ]
  },
  {
   "cell_type": "markdown",
   "id": "fc90329c-ab5c-43d1-ac5e-efb68f835efd",
   "metadata": {},
   "source": [
    "**percentile**\n",
    "\n",
    "- In numpy we have percentile\n",
    "\n",
    "- the methods is np.percentile()\n",
    "\n",
    "    - It take the two arguments\n",
    "\n",
    "    - a : array means data\n",
    "\n",
    "    - q value which percentile data we want , that value we need to provide\n",
    "\n",
    "    - if we want 25p value then q=25\n",
    "\n",
    "**quantile**\n",
    "\n",
    "- In numpy we have quantile\n",
    "\n",
    "- the method is np.quantile()\n",
    "\n",
    "    - It take the two arguments\n",
    "\n",
    "    - a : array means data\n",
    "\n",
    "    - q value which percentile data we want , that value we need to provide\n",
    "\n",
    "    - if we want 25p value then q=0.25\n",
    "\n",
    "    - if we want 50p value then q=0.50"
   ]
  },
  {
   "cell_type": "code",
   "execution_count": 20,
   "id": "572d637a-9f21-4269-8781-8e5e4dfe8734",
   "metadata": {},
   "outputs": [
    {
     "data": {
      "text/plain": [
       "34015.479999999996"
      ]
     },
     "execution_count": 20,
     "metadata": {},
     "output_type": "execute_result"
    }
   ],
   "source": [
    "np.percentile(visa[\"prevailing_wage\"],25)\n",
    "# 0 to  100"
   ]
  },
  {
   "cell_type": "code",
   "execution_count": 21,
   "id": "a98241f2-b22a-4eef-b544-9105a7ec56c2",
   "metadata": {},
   "outputs": [
    {
     "data": {
      "text/plain": [
       "34015.479999999996"
      ]
     },
     "execution_count": 21,
     "metadata": {},
     "output_type": "execute_result"
    }
   ],
   "source": [
    "np.quantile(visa[\"prevailing_wage\"],0.25)\n",
    "# o to 1"
   ]
  },
  {
   "cell_type": "code",
   "execution_count": 22,
   "id": "dd573746-96f1-4807-ac4a-ac42ad04573d",
   "metadata": {},
   "outputs": [
    {
     "name": "stdout",
     "output_type": "stream",
     "text": [
      "25p value is:  34015.48\n",
      "50p value is:  70308.21\n",
      "75p value is:  107735.51\n"
     ]
    }
   ],
   "source": [
    "wage_25p=round(np.percentile(visa['prevailing_wage'],25),2)\n",
    "wage_50p=round(np.percentile(visa['prevailing_wage'],50),2)\n",
    "wage_75p=round(np.percentile(visa['prevailing_wage'],75),2)\n",
    "print(\"25p value is: \",wage_25p)\n",
    "print(\"50p value is: \",wage_50p)\n",
    "print(\"75p value is: \",wage_75p)"
   ]
  },
  {
   "cell_type": "code",
   "execution_count": 23,
   "id": "3a323584-7ada-4ea8-8230-1c13dc1d9344",
   "metadata": {},
   "outputs": [
    {
     "data": {
      "text/html": [
       "<div>\n",
       "<style scoped>\n",
       "    .dataframe tbody tr th:only-of-type {\n",
       "        vertical-align: middle;\n",
       "    }\n",
       "\n",
       "    .dataframe tbody tr th {\n",
       "        vertical-align: top;\n",
       "    }\n",
       "\n",
       "    .dataframe thead th {\n",
       "        text-align: right;\n",
       "    }\n",
       "</style>\n",
       "<table border=\"1\" class=\"dataframe\">\n",
       "  <thead>\n",
       "    <tr style=\"text-align: right;\">\n",
       "      <th></th>\n",
       "      <th>prevailing_wage</th>\n",
       "    </tr>\n",
       "  </thead>\n",
       "  <tbody>\n",
       "    <tr>\n",
       "      <th>25p</th>\n",
       "      <td>34015.48</td>\n",
       "    </tr>\n",
       "    <tr>\n",
       "      <th>50p</th>\n",
       "      <td>70308.21</td>\n",
       "    </tr>\n",
       "    <tr>\n",
       "      <th>75p</th>\n",
       "      <td>107735.51</td>\n",
       "    </tr>\n",
       "  </tbody>\n",
       "</table>\n",
       "</div>"
      ],
      "text/plain": [
       "     prevailing_wage\n",
       "25p         34015.48\n",
       "50p         70308.21\n",
       "75p        107735.51"
      ]
     },
     "execution_count": 23,
     "metadata": {},
     "output_type": "execute_result"
    }
   ],
   "source": [
    "key=['25p','50p','75p']\n",
    "values=[wage_25p,wage_50p,wage_75p]\n",
    "cols=['prevailing_wage']\n",
    "pd.DataFrame(values,\n",
    "             key,\n",
    "             columns=cols)"
   ]
  },
  {
   "cell_type": "code",
   "execution_count": 24,
   "id": "83e4b38c-8770-4241-adae-00a6447c8fe4",
   "metadata": {},
   "outputs": [],
   "source": [
    "empty_data=pd.DataFrame()\n",
    "for i in num_columns:\n",
    "    count=len(visa[i])\n",
    "    min_value=min(visa[i])\n",
    "    max_value=max(visa[i])\n",
    "    mean_value=visa[i].mean()\n",
    "    median_value=visa[i].median()\n",
    "    std_value=visa[i].std()\n",
    "    p25=np.percentile(visa[i],25)\n",
    "    p50=np.percentile(visa[i],50)\n",
    "    p75=np.percentile(visa[i],75)\n",
    "    value=[count,min_value,max_value,mean_value,median_value,std_value,p25,p50,p75]\n",
    "    col=[i]\n",
    "    index=['count','min','max','mean','median','std','p25','p50','p75']\n",
    "    df1=pd.DataFrame(value,index=index,columns=col)\n",
    "    empty_data=pd.concat([df1,empty_data],axis=1)"
   ]
  },
  {
   "cell_type": "code",
   "execution_count": 25,
   "id": "70b51de4-5540-4a7c-b78f-7b4114a880b9",
   "metadata": {},
   "outputs": [
    {
     "data": {
      "text/html": [
       "<div>\n",
       "<style scoped>\n",
       "    .dataframe tbody tr th:only-of-type {\n",
       "        vertical-align: middle;\n",
       "    }\n",
       "\n",
       "    .dataframe tbody tr th {\n",
       "        vertical-align: top;\n",
       "    }\n",
       "\n",
       "    .dataframe thead th {\n",
       "        text-align: right;\n",
       "    }\n",
       "</style>\n",
       "<table border=\"1\" class=\"dataframe\">\n",
       "  <thead>\n",
       "    <tr style=\"text-align: right;\">\n",
       "      <th></th>\n",
       "      <th>prevailing_wage</th>\n",
       "      <th>yr_of_estab</th>\n",
       "      <th>no_of_employees</th>\n",
       "    </tr>\n",
       "  </thead>\n",
       "  <tbody>\n",
       "    <tr>\n",
       "      <th>count</th>\n",
       "      <td>25480.000000</td>\n",
       "      <td>25480.000000</td>\n",
       "      <td>25480.000000</td>\n",
       "    </tr>\n",
       "    <tr>\n",
       "      <th>min</th>\n",
       "      <td>2.136700</td>\n",
       "      <td>1800.000000</td>\n",
       "      <td>-26.000000</td>\n",
       "    </tr>\n",
       "    <tr>\n",
       "      <th>max</th>\n",
       "      <td>319210.270000</td>\n",
       "      <td>2016.000000</td>\n",
       "      <td>602069.000000</td>\n",
       "    </tr>\n",
       "    <tr>\n",
       "      <th>mean</th>\n",
       "      <td>74455.814592</td>\n",
       "      <td>1979.409929</td>\n",
       "      <td>5667.043210</td>\n",
       "    </tr>\n",
       "    <tr>\n",
       "      <th>median</th>\n",
       "      <td>70308.210000</td>\n",
       "      <td>1997.000000</td>\n",
       "      <td>2109.000000</td>\n",
       "    </tr>\n",
       "    <tr>\n",
       "      <th>std</th>\n",
       "      <td>52815.942327</td>\n",
       "      <td>42.366929</td>\n",
       "      <td>22877.928848</td>\n",
       "    </tr>\n",
       "    <tr>\n",
       "      <th>p25</th>\n",
       "      <td>34015.480000</td>\n",
       "      <td>1976.000000</td>\n",
       "      <td>1022.000000</td>\n",
       "    </tr>\n",
       "    <tr>\n",
       "      <th>p50</th>\n",
       "      <td>70308.210000</td>\n",
       "      <td>1997.000000</td>\n",
       "      <td>2109.000000</td>\n",
       "    </tr>\n",
       "    <tr>\n",
       "      <th>p75</th>\n",
       "      <td>107735.512500</td>\n",
       "      <td>2005.000000</td>\n",
       "      <td>3504.000000</td>\n",
       "    </tr>\n",
       "  </tbody>\n",
       "</table>\n",
       "</div>"
      ],
      "text/plain": [
       "        prevailing_wage   yr_of_estab  no_of_employees\n",
       "count      25480.000000  25480.000000     25480.000000\n",
       "min            2.136700   1800.000000       -26.000000\n",
       "max       319210.270000   2016.000000    602069.000000\n",
       "mean       74455.814592   1979.409929      5667.043210\n",
       "median     70308.210000   1997.000000      2109.000000\n",
       "std        52815.942327     42.366929     22877.928848\n",
       "p25        34015.480000   1976.000000      1022.000000\n",
       "p50        70308.210000   1997.000000      2109.000000\n",
       "p75       107735.512500   2005.000000      3504.000000"
      ]
     },
     "execution_count": 25,
     "metadata": {},
     "output_type": "execute_result"
    }
   ],
   "source": [
    "empty_data"
   ]
  },
  {
   "cell_type": "markdown",
   "id": "1e82be6a-b82d-4129-a675-180d31b43f8d",
   "metadata": {},
   "source": [
    "## percentile"
   ]
  },
  {
   "cell_type": "markdown",
   "id": "66e54d33-f9ec-4cec-b2b7-57abd9d1f9da",
   "metadata": {},
   "source": [
    "**Step-1**\n",
    "\n",
    "- read the prevailing_wage data\n",
    "\n",
    "**Step-2**\n",
    "\n",
    "- provide the condition\n",
    "\n",
    "- prevailing_wage < percentile value  \n"
   ]
  },
  {
   "cell_type": "markdown",
   "id": "06f32c1a-2820-4ad3-bc0c-b85dc65dce5f",
   "metadata": {},
   "source": [
    "- 25p :\n",
    "  \n",
    "    - Assume that 25p value=x\n",
    "    \n",
    "    - 25 percantage of data less than value: x\n",
    "\n",
    "- for example : \"prevailing_wage\" 25p value us :34015.47\n",
    "\n",
    "- 25 percantage of people having salary less than 34015.47\n",
    "\n",
    "- total members : 25480\n",
    "\n",
    "- 25 % of 25480=6370\n",
    "\n",
    "- which mean 6370 people has salary less than 34015.47"
   ]
  },
  {
   "cell_type": "code",
   "execution_count": 26,
   "id": "4f42b83d-de0b-4581-adcf-3cad5ab0c6cc",
   "metadata": {},
   "outputs": [
    {
     "data": {
      "text/plain": [
       "34015.479999999996"
      ]
     },
     "execution_count": 26,
     "metadata": {},
     "output_type": "execute_result"
    }
   ],
   "source": [
    "np.percentile(visa[\"prevailing_wage\"],25)"
   ]
  },
  {
   "cell_type": "code",
   "execution_count": 27,
   "id": "a59aa12a-5721-41ea-ba57-3dc9309d5259",
   "metadata": {},
   "outputs": [
    {
     "data": {
      "text/plain": [
       "6370.0"
      ]
     },
     "execution_count": 27,
     "metadata": {},
     "output_type": "execute_result"
    }
   ],
   "source": [
    "25*25480/100"
   ]
  },
  {
   "cell_type": "code",
   "execution_count": 28,
   "id": "a1ca7b55-93fe-43e1-a75b-071534be5360",
   "metadata": {},
   "outputs": [
    {
     "data": {
      "text/html": [
       "<div>\n",
       "<style scoped>\n",
       "    .dataframe tbody tr th:only-of-type {\n",
       "        vertical-align: middle;\n",
       "    }\n",
       "\n",
       "    .dataframe tbody tr th {\n",
       "        vertical-align: top;\n",
       "    }\n",
       "\n",
       "    .dataframe thead th {\n",
       "        text-align: right;\n",
       "    }\n",
       "</style>\n",
       "<table border=\"1\" class=\"dataframe\">\n",
       "  <thead>\n",
       "    <tr style=\"text-align: right;\">\n",
       "      <th></th>\n",
       "      <th>case_id</th>\n",
       "      <th>continent</th>\n",
       "      <th>education_of_employee</th>\n",
       "      <th>has_job_experience</th>\n",
       "      <th>requires_job_training</th>\n",
       "      <th>no_of_employees</th>\n",
       "      <th>yr_of_estab</th>\n",
       "      <th>region_of_employment</th>\n",
       "      <th>prevailing_wage</th>\n",
       "      <th>unit_of_wage</th>\n",
       "      <th>full_time_position</th>\n",
       "      <th>case_status</th>\n",
       "    </tr>\n",
       "  </thead>\n",
       "  <tbody>\n",
       "    <tr>\n",
       "      <th>0</th>\n",
       "      <td>EZYV01</td>\n",
       "      <td>Asia</td>\n",
       "      <td>High School</td>\n",
       "      <td>N</td>\n",
       "      <td>N</td>\n",
       "      <td>14513</td>\n",
       "      <td>2007</td>\n",
       "      <td>West</td>\n",
       "      <td>592.2029</td>\n",
       "      <td>Hour</td>\n",
       "      <td>Y</td>\n",
       "      <td>Denied</td>\n",
       "    </tr>\n",
       "    <tr>\n",
       "      <th>7</th>\n",
       "      <td>EZYV08</td>\n",
       "      <td>North America</td>\n",
       "      <td>Bachelor's</td>\n",
       "      <td>Y</td>\n",
       "      <td>N</td>\n",
       "      <td>3035</td>\n",
       "      <td>1924</td>\n",
       "      <td>West</td>\n",
       "      <td>418.2298</td>\n",
       "      <td>Hour</td>\n",
       "      <td>Y</td>\n",
       "      <td>Denied</td>\n",
       "    </tr>\n",
       "    <tr>\n",
       "      <th>12</th>\n",
       "      <td>EZYV13</td>\n",
       "      <td>Asia</td>\n",
       "      <td>Bachelor's</td>\n",
       "      <td>Y</td>\n",
       "      <td>N</td>\n",
       "      <td>123876</td>\n",
       "      <td>1963</td>\n",
       "      <td>Northeast</td>\n",
       "      <td>28663.0500</td>\n",
       "      <td>Year</td>\n",
       "      <td>Y</td>\n",
       "      <td>Certified</td>\n",
       "    </tr>\n",
       "    <tr>\n",
       "      <th>16</th>\n",
       "      <td>EZYV17</td>\n",
       "      <td>Europe</td>\n",
       "      <td>Master's</td>\n",
       "      <td>Y</td>\n",
       "      <td>N</td>\n",
       "      <td>76638</td>\n",
       "      <td>1991</td>\n",
       "      <td>Midwest</td>\n",
       "      <td>3706.7900</td>\n",
       "      <td>Year</td>\n",
       "      <td>Y</td>\n",
       "      <td>Certified</td>\n",
       "    </tr>\n",
       "    <tr>\n",
       "      <th>17</th>\n",
       "      <td>EZYV18</td>\n",
       "      <td>Asia</td>\n",
       "      <td>Master's</td>\n",
       "      <td>Y</td>\n",
       "      <td>N</td>\n",
       "      <td>2747</td>\n",
       "      <td>2001</td>\n",
       "      <td>West</td>\n",
       "      <td>16132.6100</td>\n",
       "      <td>Year</td>\n",
       "      <td>Y</td>\n",
       "      <td>Certified</td>\n",
       "    </tr>\n",
       "    <tr>\n",
       "      <th>...</th>\n",
       "      <td>...</td>\n",
       "      <td>...</td>\n",
       "      <td>...</td>\n",
       "      <td>...</td>\n",
       "      <td>...</td>\n",
       "      <td>...</td>\n",
       "      <td>...</td>\n",
       "      <td>...</td>\n",
       "      <td>...</td>\n",
       "      <td>...</td>\n",
       "      <td>...</td>\n",
       "      <td>...</td>\n",
       "    </tr>\n",
       "    <tr>\n",
       "      <th>25461</th>\n",
       "      <td>EZYV25462</td>\n",
       "      <td>Asia</td>\n",
       "      <td>Master's</td>\n",
       "      <td>Y</td>\n",
       "      <td>N</td>\n",
       "      <td>2861</td>\n",
       "      <td>2004</td>\n",
       "      <td>West</td>\n",
       "      <td>54.9196</td>\n",
       "      <td>Hour</td>\n",
       "      <td>Y</td>\n",
       "      <td>Denied</td>\n",
       "    </tr>\n",
       "    <tr>\n",
       "      <th>25465</th>\n",
       "      <td>EZYV25466</td>\n",
       "      <td>North America</td>\n",
       "      <td>High School</td>\n",
       "      <td>N</td>\n",
       "      <td>N</td>\n",
       "      <td>2577</td>\n",
       "      <td>1995</td>\n",
       "      <td>South</td>\n",
       "      <td>481.2238</td>\n",
       "      <td>Hour</td>\n",
       "      <td>Y</td>\n",
       "      <td>Certified</td>\n",
       "    </tr>\n",
       "    <tr>\n",
       "      <th>25466</th>\n",
       "      <td>EZYV25467</td>\n",
       "      <td>Europe</td>\n",
       "      <td>Bachelor's</td>\n",
       "      <td>Y</td>\n",
       "      <td>N</td>\n",
       "      <td>1938</td>\n",
       "      <td>2005</td>\n",
       "      <td>West</td>\n",
       "      <td>6973.4000</td>\n",
       "      <td>Year</td>\n",
       "      <td>Y</td>\n",
       "      <td>Denied</td>\n",
       "    </tr>\n",
       "    <tr>\n",
       "      <th>25470</th>\n",
       "      <td>EZYV25471</td>\n",
       "      <td>North America</td>\n",
       "      <td>Master's</td>\n",
       "      <td>Y</td>\n",
       "      <td>N</td>\n",
       "      <td>2272</td>\n",
       "      <td>1970</td>\n",
       "      <td>Northeast</td>\n",
       "      <td>516.4101</td>\n",
       "      <td>Hour</td>\n",
       "      <td>Y</td>\n",
       "      <td>Certified</td>\n",
       "    </tr>\n",
       "    <tr>\n",
       "      <th>25473</th>\n",
       "      <td>EZYV25474</td>\n",
       "      <td>Asia</td>\n",
       "      <td>Bachelor's</td>\n",
       "      <td>Y</td>\n",
       "      <td>N</td>\n",
       "      <td>2421</td>\n",
       "      <td>2007</td>\n",
       "      <td>Northeast</td>\n",
       "      <td>22845.5600</td>\n",
       "      <td>Year</td>\n",
       "      <td>Y</td>\n",
       "      <td>Certified</td>\n",
       "    </tr>\n",
       "  </tbody>\n",
       "</table>\n",
       "<p>6370 rows × 12 columns</p>\n",
       "</div>"
      ],
      "text/plain": [
       "         case_id      continent education_of_employee has_job_experience  \\\n",
       "0         EZYV01           Asia           High School                  N   \n",
       "7         EZYV08  North America            Bachelor's                  Y   \n",
       "12        EZYV13           Asia            Bachelor's                  Y   \n",
       "16        EZYV17         Europe              Master's                  Y   \n",
       "17        EZYV18           Asia              Master's                  Y   \n",
       "...          ...            ...                   ...                ...   \n",
       "25461  EZYV25462           Asia              Master's                  Y   \n",
       "25465  EZYV25466  North America           High School                  N   \n",
       "25466  EZYV25467         Europe            Bachelor's                  Y   \n",
       "25470  EZYV25471  North America              Master's                  Y   \n",
       "25473  EZYV25474           Asia            Bachelor's                  Y   \n",
       "\n",
       "      requires_job_training  no_of_employees  yr_of_estab  \\\n",
       "0                         N            14513         2007   \n",
       "7                         N             3035         1924   \n",
       "12                        N           123876         1963   \n",
       "16                        N            76638         1991   \n",
       "17                        N             2747         2001   \n",
       "...                     ...              ...          ...   \n",
       "25461                     N             2861         2004   \n",
       "25465                     N             2577         1995   \n",
       "25466                     N             1938         2005   \n",
       "25470                     N             2272         1970   \n",
       "25473                     N             2421         2007   \n",
       "\n",
       "      region_of_employment  prevailing_wage unit_of_wage full_time_position  \\\n",
       "0                     West         592.2029         Hour                  Y   \n",
       "7                     West         418.2298         Hour                  Y   \n",
       "12               Northeast       28663.0500         Year                  Y   \n",
       "16                 Midwest        3706.7900         Year                  Y   \n",
       "17                    West       16132.6100         Year                  Y   \n",
       "...                    ...              ...          ...                ...   \n",
       "25461                 West          54.9196         Hour                  Y   \n",
       "25465                South         481.2238         Hour                  Y   \n",
       "25466                 West        6973.4000         Year                  Y   \n",
       "25470            Northeast         516.4101         Hour                  Y   \n",
       "25473            Northeast       22845.5600         Year                  Y   \n",
       "\n",
       "      case_status  \n",
       "0          Denied  \n",
       "7          Denied  \n",
       "12      Certified  \n",
       "16      Certified  \n",
       "17      Certified  \n",
       "...           ...  \n",
       "25461      Denied  \n",
       "25465   Certified  \n",
       "25466      Denied  \n",
       "25470   Certified  \n",
       "25473   Certified  \n",
       "\n",
       "[6370 rows x 12 columns]"
      ]
     },
     "execution_count": 28,
     "metadata": {},
     "output_type": "execute_result"
    }
   ],
   "source": [
    "wage_data=visa['prevailing_wage']\n",
    "p_25=np.percentile(visa['prevailing_wage'],25)\n",
    "con=wage_data<p_25\n",
    "visa[con]"
   ]
  },
  {
   "cell_type": "code",
   "execution_count": 29,
   "id": "a5411bcf-8335-4cc0-a388-3443c6478a90",
   "metadata": {},
   "outputs": [
    {
     "data": {
      "text/plain": [
       "70308.20999999999"
      ]
     },
     "execution_count": 29,
     "metadata": {},
     "output_type": "execute_result"
    }
   ],
   "source": [
    "np.percentile(visa[\"prevailing_wage\"],50)"
   ]
  },
  {
   "cell_type": "code",
   "execution_count": 30,
   "id": "6978ec84-2574-47ba-b0f7-24bc7e2f0089",
   "metadata": {},
   "outputs": [
    {
     "data": {
      "text/plain": [
       "12740.0"
      ]
     },
     "execution_count": 30,
     "metadata": {},
     "output_type": "execute_result"
    }
   ],
   "source": [
    "50*25480/100"
   ]
  },
  {
   "cell_type": "markdown",
   "id": "5a600315-9aa9-496e-ab88-46d9bb76257a",
   "metadata": {},
   "source": [
    "- 50p :\n",
    "  \n",
    "    - Assume that 50p value=x\n",
    "    \n",
    "    - 50 percantage of data less than value: x\n",
    "\n",
    "- for example : \"prevailing_wage\" 50p value us :\n",
    "\n",
    "- 50 percantage of people having salary less than 70308.20\n",
    "\n",
    "- total members : 25480\n",
    "\n",
    "- 50 % of 25480=12740.0\n",
    "\n",
    "- which mean 12740.0 people has salary less than 70308.20"
   ]
  },
  {
   "cell_type": "code",
   "execution_count": 31,
   "id": "02addd0f-ccfa-44e8-b2c2-e607aa07a71b",
   "metadata": {},
   "outputs": [
    {
     "data": {
      "text/plain": [
       "12740"
      ]
     },
     "execution_count": 31,
     "metadata": {},
     "output_type": "execute_result"
    }
   ],
   "source": [
    "wage_data=visa['prevailing_wage']\n",
    "p_50=np.percentile(visa['prevailing_wage'],50)\n",
    "con=wage_data<p_50\n",
    "visa[con]\n",
    "len(visa[con])"
   ]
  },
  {
   "cell_type": "code",
   "execution_count": 32,
   "id": "e2025002-bb83-46bb-9511-ed12051123aa",
   "metadata": {},
   "outputs": [
    {
     "data": {
      "text/plain": [
       "107735.51"
      ]
     },
     "execution_count": 32,
     "metadata": {},
     "output_type": "execute_result"
    }
   ],
   "source": [
    "round(np.percentile(visa['prevailing_wage'],75),2)"
   ]
  },
  {
   "cell_type": "code",
   "execution_count": 33,
   "id": "bb502c64-eb34-4373-8b5c-44282e7a6538",
   "metadata": {},
   "outputs": [
    {
     "data": {
      "text/plain": [
       "19110.0"
      ]
     },
     "execution_count": 33,
     "metadata": {},
     "output_type": "execute_result"
    }
   ],
   "source": [
    "75*25480/100"
   ]
  },
  {
   "cell_type": "markdown",
   "id": "8f8090e6-4b1f-4116-a384-a6a9f8985453",
   "metadata": {},
   "source": [
    "- 75p :\n",
    "  \n",
    "    - Assume that 75p value=x\n",
    "    \n",
    "    - 75 percantage of data less than value: x\n",
    "\n",
    "- for example : \"prevailing_wage\" 75p value us :\n",
    "\n",
    "- 75 percantage of people having salary less than 107735.51\n",
    "\n",
    "- total members : 25480\n",
    "\n",
    "- 75 % of 25480=19110.0\n",
    "\n",
    "- which mean 19110.0 people has salary less than 107735.51"
   ]
  },
  {
   "cell_type": "code",
   "execution_count": 34,
   "id": "27b08200-86de-4e1b-9206-632247f192eb",
   "metadata": {},
   "outputs": [
    {
     "data": {
      "text/plain": [
       "19110"
      ]
     },
     "execution_count": 34,
     "metadata": {},
     "output_type": "execute_result"
    }
   ],
   "source": [
    "wage_data=visa['prevailing_wage']\n",
    "p_75=np.percentile(visa['prevailing_wage'],75)\n",
    "con=wage_data<p_75\n",
    "visa[con]\n",
    "len(visa[con])"
   ]
  },
  {
   "cell_type": "markdown",
   "id": "142028c2-575a-4043-acbb-bd552b1486a7",
   "metadata": {},
   "source": [
    "# imperical Rule"
   ]
  },
  {
   "cell_type": "code",
   "execution_count": null,
   "id": "e8a75327-7dc3-4d87-ad93-c88c719557ae",
   "metadata": {},
   "outputs": [],
   "source": [
    "mean-1*std to mean+1dtd:68%\n",
    "mean-2*std to mean+1dtd:95%\n",
    "mean-3*std to mean+1dtd:99.7%"
   ]
  },
  {
   "cell_type": "code",
   "execution_count": null,
   "id": "60125ff9-0c97-45aa-a292-237d237515aa",
   "metadata": {},
   "outputs": [],
   "source": [
    "# step-1: calculate the mean of percentile_wage\n",
    "# step-2: calculate the std of prevailing_wage\n",
    "# step-3: lb=mean-1*std\n",
    "# step-4: ub=mean+1*std\n",
    "# step-5: con1= data<ub\n",
    "# step-6: con2= data>lb\n",
    "# step-7: con3= con1 and con2\n",
    "# step-8: data[con3]\n",
    "\n",
    "# step-9: campare with 68% 25480 count\n"
   ]
  },
  {
   "cell_type": "code",
   "execution_count": 44,
   "id": "b802c00e-7ff5-47d7-8e0e-1db5534e1b12",
   "metadata": {},
   "outputs": [
    {
     "name": "stdout",
     "output_type": "stream",
     "text": [
      "17171\n",
      "17326.4\n"
     ]
    }
   ],
   "source": [
    "mu = visa[\"prevailing_wage\"].mean()\n",
    "sigma = visa[\"prevailing_wage\"].std()\n",
    "\n",
    "lb = mu-1*sigma\n",
    "ub = mu+1*sigma\n",
    "\n",
    "con1 = visa[\"prevailing_wage\"] < ub\n",
    "con2 = visa[\"prevailing_wage\"] > lb\n",
    "\n",
    "con3 = con1&con2\n",
    "print(len(visa[con3]))\n",
    "print(68*len(visa)/100)"
   ]
  },
  {
   "cell_type": "code",
   "execution_count": 42,
   "id": "6f457af0-21ef-45a0-adce-3a43d42e9927",
   "metadata": {},
   "outputs": [
    {
     "name": "stdout",
     "output_type": "stream",
     "text": [
      "24582\n",
      "24206.0\n"
     ]
    }
   ],
   "source": [
    "mu = visa[\"prevailing_wage\"].mean()\n",
    "sigma = visa[\"prevailing_wage\"].std()\n",
    "\n",
    "lb = mu-2*sigma\n",
    "ub = mu+2*sigma\n",
    "\n",
    "con1 = visa[\"prevailing_wage\"] < ub\n",
    "con2 = visa[\"prevailing_wage\"] > lb\n",
    "\n",
    "con3 = con1&con2\n",
    "print(len(visa[con3]))\n",
    "print(95*len(visa)/100)"
   ]
  },
  {
   "cell_type": "code",
   "execution_count": 45,
   "id": "588c2d9f-3117-4c25-904d-50fbe51d1b1f",
   "metadata": {},
   "outputs": [
    {
     "name": "stdout",
     "output_type": "stream",
     "text": [
      "25186\n"
     ]
    }
   ],
   "source": [
    "mu = visa[\"prevailing_wage\"].mean()\n",
    "sigma = visa[\"prevailing_wage\"].std()\n",
    "\n",
    "lb = mu-3*sigma\n",
    "ub = mu+3*sigma\n",
    "\n",
    "con1 = visa[\"prevailing_wage\"] < ub\n",
    "con2 = visa[\"prevailing_wage\"] > lb\n",
    "\n",
    "con3 = con1&con2\n",
    "print(len(visa[con3]))"
   ]
  },
  {
   "cell_type": "code",
   "execution_count": null,
   "id": "ca63f386-39ae-40c7-a58b-9d30ce83fc78",
   "metadata": {},
   "outputs": [],
   "source": [
    "# import the packages\n",
    "# Read the data"
   ]
  },
  {
   "cell_type": "code",
   "execution_count": 5,
   "id": "2304e169-dc60-4381-aaf0-5e3021fdf5e0",
   "metadata": {},
   "outputs": [
    {
     "data": {
      "text/plain": [
       "Index(['no_of_employees', 'yr_of_estab', 'prevailing_wage'], dtype='object')"
      ]
     },
     "execution_count": 5,
     "metadata": {},
     "output_type": "execute_result"
    }
   ],
   "source": [
    "import pandas as pd\n",
    "import numpy as np\n",
    "import matplotlib.pyplot as plt\n",
    "import seaborn as sns\n",
    "\n",
    "visa=pd.read_csv(\"Visadataset.csv\")\n",
    "visa\n",
    "\n",
    "cat_columns=visa.select_dtypes(include=\"object\").columns\n",
    "num_columns=visa.select_dtypes(exclude=\"object\").columns\n",
    "num_columns"
   ]
  },
  {
   "cell_type": "code",
   "execution_count": 47,
   "id": "01bbf752-0941-440e-b347-b843c4b76997",
   "metadata": {},
   "outputs": [
    {
     "data": {
      "text/html": [
       "<div>\n",
       "<style scoped>\n",
       "    .dataframe tbody tr th:only-of-type {\n",
       "        vertical-align: middle;\n",
       "    }\n",
       "\n",
       "    .dataframe tbody tr th {\n",
       "        vertical-align: top;\n",
       "    }\n",
       "\n",
       "    .dataframe thead th {\n",
       "        text-align: right;\n",
       "    }\n",
       "</style>\n",
       "<table border=\"1\" class=\"dataframe\">\n",
       "  <thead>\n",
       "    <tr style=\"text-align: right;\">\n",
       "      <th></th>\n",
       "      <th>no_of_employees</th>\n",
       "      <th>yr_of_estab</th>\n",
       "      <th>prevailing_wage</th>\n",
       "    </tr>\n",
       "  </thead>\n",
       "  <tbody>\n",
       "    <tr>\n",
       "      <th>count</th>\n",
       "      <td>25480.000000</td>\n",
       "      <td>25480.000000</td>\n",
       "      <td>25480.000000</td>\n",
       "    </tr>\n",
       "    <tr>\n",
       "      <th>mean</th>\n",
       "      <td>5667.043210</td>\n",
       "      <td>1979.409929</td>\n",
       "      <td>74455.814592</td>\n",
       "    </tr>\n",
       "    <tr>\n",
       "      <th>std</th>\n",
       "      <td>22877.928848</td>\n",
       "      <td>42.366929</td>\n",
       "      <td>52815.942327</td>\n",
       "    </tr>\n",
       "    <tr>\n",
       "      <th>min</th>\n",
       "      <td>-26.000000</td>\n",
       "      <td>1800.000000</td>\n",
       "      <td>2.136700</td>\n",
       "    </tr>\n",
       "    <tr>\n",
       "      <th>25%</th>\n",
       "      <td>1022.000000</td>\n",
       "      <td>1976.000000</td>\n",
       "      <td>34015.480000</td>\n",
       "    </tr>\n",
       "    <tr>\n",
       "      <th>50%</th>\n",
       "      <td>2109.000000</td>\n",
       "      <td>1997.000000</td>\n",
       "      <td>70308.210000</td>\n",
       "    </tr>\n",
       "    <tr>\n",
       "      <th>75%</th>\n",
       "      <td>3504.000000</td>\n",
       "      <td>2005.000000</td>\n",
       "      <td>107735.512500</td>\n",
       "    </tr>\n",
       "    <tr>\n",
       "      <th>max</th>\n",
       "      <td>602069.000000</td>\n",
       "      <td>2016.000000</td>\n",
       "      <td>319210.270000</td>\n",
       "    </tr>\n",
       "  </tbody>\n",
       "</table>\n",
       "</div>"
      ],
      "text/plain": [
       "       no_of_employees   yr_of_estab  prevailing_wage\n",
       "count     25480.000000  25480.000000     25480.000000\n",
       "mean       5667.043210   1979.409929     74455.814592\n",
       "std       22877.928848     42.366929     52815.942327\n",
       "min         -26.000000   1800.000000         2.136700\n",
       "25%        1022.000000   1976.000000     34015.480000\n",
       "50%        2109.000000   1997.000000     70308.210000\n",
       "75%        3504.000000   2005.000000    107735.512500\n",
       "max      602069.000000   2016.000000    319210.270000"
      ]
     },
     "execution_count": 47,
     "metadata": {},
     "output_type": "execute_result"
    }
   ],
   "source": [
    "visa.describe()"
   ]
  },
  {
   "cell_type": "markdown",
   "id": "d11a2958-1610-4d7b-ade8-ffc9815cc206",
   "metadata": {},
   "source": [
    "**Histogram**"
   ]
  },
  {
   "cell_type": "markdown",
   "id": "c81db649-ff1e-4389-9c01-7642812148a6",
   "metadata": {},
   "source": [
    "- By applying Impercial rule we observed slight devation in the count of data\n",
    "\n",
    "- Also Mean is slight for Medain\n",
    "\n",
    "- this give an indication the data does not follows Normal distribution\n",
    "\n",
    "- To understand more clearly will visulaize the data\n",
    "\n",
    "- Its is Numerical data ,so the plot name is : **Histogram**\n",
    "\n",
    "- Histogram is a graph  Between class interval and class Interval frequency\n",
    "\n",
    "- the plot is avaible in **matplotlib**\n",
    "\n",
    "- the Mothod name is hist    "
   ]
  },
  {
   "cell_type": "code",
   "execution_count": 50,
   "id": "faf92a85-432d-4614-b763-9d7f077f69a7",
   "metadata": {},
   "outputs": [
    {
     "data": {
      "text/plain": [
       "(array([3863., 2175., 2676., 2828., 2889., 2792., 2485., 2066., 1452.,\n",
       "         882.,  408.,  216.,  206.,  167.,  129.,  111.,   66.,   48.,\n",
       "          10.,   11.]),\n",
       " array([2.13670000e+00, 1.59625434e+04, 3.19229500e+04, 4.78833567e+04,\n",
       "        6.38437634e+04, 7.98041700e+04, 9.57645767e+04, 1.11724983e+05,\n",
       "        1.27685390e+05, 1.43645797e+05, 1.59606203e+05, 1.75566610e+05,\n",
       "        1.91527017e+05, 2.07487423e+05, 2.23447830e+05, 2.39408237e+05,\n",
       "        2.55368643e+05, 2.71329050e+05, 2.87289457e+05, 3.03249863e+05,\n",
       "        3.19210270e+05]),\n",
       " <BarContainer object of 20 artists>)"
      ]
     },
     "execution_count": 50,
     "metadata": {},
     "output_type": "execute_result"
    },
    {
     "data": {
      "image/png": "[encoded data removed]",
      "text/plain": [
       "<Figure size 640x480 with 1 Axes>"
      ]
     },
     "metadata": {},
     "output_type": "display_data"
    }
   ],
   "source": [
    "# Step-1: Read the prevaialing wage\n",
    "# step-2: plt.hist()\n",
    "wage_data=visa['prevailing_wage']\n",
    "plt.hist(wage_data,bins=20)"
   ]
  },
  {
   "cell_type": "markdown",
   "id": "26b4ee39-86cc-40fc-a0b2-6411fd6ce1ff",
   "metadata": {},
   "source": [
    "- histogram will return 3 values \n",
    "\n",
    "    - Intervals count array\n",
    "\n",
    "        - we have 20 intervals ,  so we have 20 intervals counts\n",
    "\n",
    "    - bins \n",
    "\n",
    "        - bins means of intervals\n",
    "\n",
    "        - we have 20 intervals so we need 21 values\n",
    "\n",
    "        - will display how many intervals are avialable\n",
    "\n",
    "- for example: in the bins array the first two  form interval\n",
    "\n",
    "- 2.136 to 1.5962.5434 the count is 3863\n",
    "\n",
    "- 3862 obervation are available between 2.136 to 15962.543\n",
    "\n",
    "- silimilary 2175 oberavation between (15962.5434, 31922.95)"
   ]
  },
  {
   "cell_type": "code",
   "execution_count": 51,
   "id": "d8011744-05ca-4a0e-a884-8ff68d2d17c2",
   "metadata": {},
   "outputs": [
    {
     "data": {
      "text/plain": [
       "15962.5434"
      ]
     },
     "execution_count": 51,
     "metadata": {},
     "output_type": "execute_result"
    }
   ],
   "source": [
    "1.59625434e+04"
   ]
  },
  {
   "cell_type": "code",
   "execution_count": 52,
   "id": "59e684ba-07ef-4112-9a8e-a2f53a19d217",
   "metadata": {},
   "outputs": [
    {
     "data": {
      "text/plain": [
       "(15962.5434, 31922.95)"
      ]
     },
     "execution_count": 52,
     "metadata": {},
     "output_type": "execute_result"
    }
   ],
   "source": [
    "1.59625434e+04, 3.19229500e+04"
   ]
  },
  {
   "cell_type": "code",
   "execution_count": 58,
   "id": "7b43780d-3d1d-4f55-b57b-41ba23f87303",
   "metadata": {},
   "outputs": [
    {
     "name": "stdout",
     "output_type": "stream",
     "text": [
      "20\n",
      "21\n",
      "<BarContainer object of 20 artists>\n"
     ]
    },
    {
     "data": {
      "image/png": "[encoded data removed]",
      "text/plain": [
       "<Figure size 640x480 with 1 Axes>"
      ]
     },
     "metadata": {},
     "output_type": "display_data"
    }
   ],
   "source": [
    "wage_data=visa['prevailing_wage']\n",
    "count,bins,x=plt.hist(wage_data,bins=20)\n",
    "print(len(count))\n",
    "print(len(bins))\n",
    "print(x)"
   ]
  },
  {
   "cell_type": "markdown",
   "id": "7754eb10-e5a7-43d7-a0cb-af966a879b67",
   "metadata": {},
   "source": [
    "**Verify below two statements**\n",
    "\n",
    "- 3862 obervation are available between 2.136 to 15962.543\n",
    "\n",
    "- silimilary 2175 oberavation between (15962.5434, 31922.95)"
   ]
  },
  {
   "cell_type": "code",
   "execution_count": 59,
   "id": "e228c428-3514-4f06-8290-8f4f1be041f3",
   "metadata": {},
   "outputs": [
    {
     "name": "stdout",
     "output_type": "stream",
     "text": [
      "3863\n"
     ]
    }
   ],
   "source": [
    "lb = 2.13670000e+00\n",
    "ub = 1.59625434e+04\n",
    "\n",
    "con1 = visa[\"prevailing_wage\"] <= ub\n",
    "con2 = visa[\"prevailing_wage\"] >= lb\n",
    "\n",
    "con3 = con1&con2\n",
    "print(len(visa[con3]))"
   ]
  },
  {
   "cell_type": "code",
   "execution_count": 60,
   "id": "8fbd5514-6e00-4564-ab9f-119e13d7f539",
   "metadata": {},
   "outputs": [
    {
     "name": "stdout",
     "output_type": "stream",
     "text": [
      "2175\n"
     ]
    }
   ],
   "source": [
    "lb = 1.59625434e+04 \n",
    "ub = 3.19229500e+04\n",
    "\n",
    "con1 = visa[\"prevailing_wage\"] <= ub\n",
    "con2 = visa[\"prevailing_wage\"] >= lb\n",
    "\n",
    "con3 = con1&con2\n",
    "print(len(visa[con3]))"
   ]
  },
  {
   "cell_type": "code",
   "execution_count": 61,
   "id": "3c35beba-bf2b-4e14-ba7d-242a2582a56e",
   "metadata": {},
   "outputs": [
    {
     "data": {
      "text/plain": [
       "array([3863., 2175., 2676., 2828., 2889., 2792., 2485., 2066., 1452.,\n",
       "        882.,  408.,  216.,  206.,  167.,  129.,  111.,   66.,   48.,\n",
       "         10.,   11.])"
      ]
     },
     "execution_count": 61,
     "metadata": {},
     "output_type": "execute_result"
    }
   ],
   "source": [
    "count"
   ]
  },
  {
   "cell_type": "code",
   "execution_count": 62,
   "id": "069f8835-5446-447d-9f11-47490174c0f5",
   "metadata": {},
   "outputs": [
    {
     "data": {
      "text/plain": [
       "array([2.13670000e+00, 1.59625434e+04, 3.19229500e+04, 4.78833567e+04,\n",
       "       6.38437634e+04, 7.98041700e+04, 9.57645767e+04, 1.11724983e+05,\n",
       "       1.27685390e+05, 1.43645797e+05, 1.59606203e+05, 1.75566610e+05,\n",
       "       1.91527017e+05, 2.07487423e+05, 2.23447830e+05, 2.39408237e+05,\n",
       "       2.55368643e+05, 2.71329050e+05, 2.87289457e+05, 3.03249863e+05,\n",
       "       3.19210270e+05])"
      ]
     },
     "execution_count": 62,
     "metadata": {},
     "output_type": "execute_result"
    }
   ],
   "source": [
    "bins"
   ]
  },
  {
   "cell_type": "code",
   "execution_count": 63,
   "id": "5f7ccff1-610a-4a6c-8d50-31068353102a",
   "metadata": {},
   "outputs": [
    {
     "data": {
      "text/plain": [
       "(array([  64.,  100.,   50.,  291.,  222.,  300.,  364.,  341.,  311.,\n",
       "         290.,  406.,  430.,  364.,  613.,  524., 1294., 1944., 3480.,\n",
       "        8392., 5700.]),\n",
       " array([1800. , 1810.8, 1821.6, 1832.4, 1843.2, 1854. , 1864.8, 1875.6,\n",
       "        1886.4, 1897.2, 1908. , 1918.8, 1929.6, 1940.4, 1951.2, 1962. ,\n",
       "        1972.8, 1983.6, 1994.4, 2005.2, 2016. ]),\n",
       " <BarContainer object of 20 artists>)"
      ]
     },
     "execution_count": 63,
     "metadata": {},
     "output_type": "execute_result"
    },
    {
     "data": {
      "image/png": "[encoded data removed]",
      "text/plain": [
       "<Figure size 640x480 with 1 Axes>"
      ]
     },
     "metadata": {},
     "output_type": "display_data"
    }
   ],
   "source": [
    "# Step-1: Read the prevaialing wage\n",
    "# step-2: plt.hist()\n",
    "estab_data=visa['yr_of_estab']\n",
    "plt.hist(estab_data,bins=20)"
   ]
  },
  {
   "cell_type": "code",
   "execution_count": null,
   "id": "e5d81dc3-11b0-4938-826e-26660f46d09b",
   "metadata": {},
   "outputs": [],
   "source": []
  }
 ],
 "metadata": {
  "kernelspec": {
   "display_name": "Python 3 (ipykernel)",
   "language": "python",
   "name": "python3"
  },
  "language_info": {
   "codemirror_mode": {
    "name": "ipython",
    "version": 3
   },
   "file_extension": ".py",
   "mimetype": "text/x-python",
   "name": "python",
   "nbconvert_exporter": "python",
   "pygments_lexer": "ipython3",
   "version": "3.11.7"
  }
 },
 "nbformat": 4,
 "nbformat_minor": 5
}
